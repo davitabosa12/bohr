{
 "cells": [
  {
   "cell_type": "code",
   "execution_count": null,
   "metadata": {},
   "outputs": [],
   "source": [
    "from datetime import datetime\n",
    "import os\n",
    "import subprocess\n",
    "\n",
    "import logging\n",
    "logger = logging.getLogger(\"ETL\")\n",
    "logging.basicConfig(format='%(asctime)s %(levelname):%(message)', level=logging.DEBUG, datefmt='%H:%M:%S')"
   ]
  },
  {
   "cell_type": "code",
   "execution_count": null,
   "metadata": {},
   "outputs": [],
   "source": [
    "CHECKPOINTS_PATH = \"data/bohr_checkpoints.txt\"\n",
    "def has_java_files(list_of_filenames):\n",
    "    return bool([elem for elem in list_of_filenames if elem.endswith(\".java\")])\n",
    "def timestamp():\n",
    "    return int(datetime.now().timestamp() * 1000 // 1)\n",
    "def load_checkpoints():\n",
    "    if os.path.exists(CHECKPOINTS_PATH):\n",
    "        with open(CHECKPOINTS_PATH, 'r') as checkpoint_file:\n",
    "            lines = checkpoint_file.readlines()\n",
    "            lines = [line.strip() for line in lines]\n",
    "            return lines\n",
    "    else:\n",
    "        return []\n",
    "def save_checkpoint(path):\n",
    "    with open(CHECKPOINTS_PATH, 'a') as checkpoint_file:\n",
    "        checkpoint_file.write(path + \"\\n\")\n",
    "    logger.info(f\"saved {path}\")\n",
    "\n",
    "def run_bohr(repo_path, file_name):\n",
    "    checkpoints = load_checkpoints()\n",
    "    for workdir, repo_list, files in os.walk(repo_path):\n",
    "        java_files = [file for file in files if file.endswith(\".java\")]\n",
    "        for file in java_files:\n",
    "            java_file_path = f\"{workdir}/{file}\"\n",
    "            if java_file_path in checkpoints:\n",
    "                logger.info(f\"skipping {java_file_path}\")\n",
    "                continue\n",
    "            ms = timestamp()\n",
    "            subprocess.call(['java', '-jar', 'bohr.jar', java_file_path, f\"{file_name}_{ms}\"])\n",
    "            save_checkpoint(java_file_path)"
   ]
  }
 ],
 "metadata": {
  "kernelspec": {
   "display_name": "Python 3",
   "language": "python",
   "name": "python3"
  },
  "language_info": {
   "name": "python",
   "version": "3.12.3"
  }
 },
 "nbformat": 4,
 "nbformat_minor": 2
}
